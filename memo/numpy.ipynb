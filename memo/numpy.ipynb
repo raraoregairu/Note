{
 "cells": [
  {
   "cell_type": "markdown",
   "id": "5152c2c8-f384-4b55-a179-517083538eba",
   "metadata": {},
   "source": [
    "# NumPy\n",
    "\n",
    "高水準の数学関数や多次元配列を高速に計算できるライブラリ"
   ]
  },
  {
   "cell_type": "code",
   "execution_count": 1,
   "id": "4160611a-b371-48a7-9ff3-07540355de03",
   "metadata": {},
   "outputs": [],
   "source": [
    "import numpy as np"
   ]
  },
  {
   "cell_type": "markdown",
   "id": "e0defc92-e3d5-4928-8706-5289ca4c836d",
   "metadata": {},
   "source": [
    "## 配列を作成 np.arange\n",
    "\n",
    "第一引数以上第二引数未満かつ第三引数の間隔で配列が作成される"
   ]
  },
  {
   "cell_type": "code",
   "execution_count": 11,
   "id": "5809d863-59c1-43de-8218-265644476595",
   "metadata": {},
   "outputs": [
    {
     "data": {
      "text/plain": [
       "array([1. , 1.5, 2. , 2.5, 3. , 3.5, 4. , 4.5, 5. , 5.5, 6. , 6.5, 7. ,\n",
       "       7.5, 8. , 8.5, 9. , 9.5])"
      ]
     },
     "execution_count": 11,
     "metadata": {},
     "output_type": "execute_result"
    }
   ],
   "source": [
    "np.arange(1, 10, 0.5)"
   ]
  },
  {
   "cell_type": "markdown",
   "id": "32271283-b31b-4b5f-9431-ac87770521a4",
   "metadata": {},
   "source": [
    "## 等間隔の配列を作成 np.linspace\n",
    "\n",
    "第一引数以上第二引数以下かつ要素の個数が第三引数の等間隔な配列が作成される．\n",
    "\n",
    "option\n",
    "> retstep = True 各要素の差分\n",
    "> endpoint = False 第二引数未満の配列を作成"
   ]
  },
  {
   "cell_type": "code",
   "execution_count": 12,
   "id": "0b5f4fe1-c9a0-4aaf-a2e1-614a4794ae05",
   "metadata": {},
   "outputs": [
    {
     "data": {
      "text/plain": [
       "(array([ 1.        ,  3.11111111,  5.22222222,  7.33333333,  9.44444444,\n",
       "        11.55555556, 13.66666667, 15.77777778, 17.88888889, 20.        ]),\n",
       " 2.111111111111111)"
      ]
     },
     "execution_count": 12,
     "metadata": {},
     "output_type": "execute_result"
    }
   ],
   "source": [
    "np.linspace(1, 20, 10, retstep = True)"
   ]
  },
  {
   "cell_type": "markdown",
   "id": "f7e4bdcf-fb7c-4574-ba3c-ad9385e787c8",
   "metadata": {},
   "source": [
    "## ある要素の配列を作成 np.full\n",
    "\n",
    "（行数，列数）の配列で作成（float）\n",
    "\n",
    "option\n",
    "> dtype = int 整数型"
   ]
  },
  {
   "cell_type": "code",
   "execution_count": 17,
   "id": "4f14e5b8-7b7a-464b-a9d0-284fda69a37e",
   "metadata": {},
   "outputs": [
    {
     "data": {
      "text/plain": [
       "array([[0, 0, 0, 0],\n",
       "       [0, 0, 0, 0],\n",
       "       [0, 0, 0, 0]])"
      ]
     },
     "execution_count": 17,
     "metadata": {},
     "output_type": "execute_result"
    }
   ],
   "source": [
    "np.full((3,4), 0, dtype = int)#要素数，数値"
   ]
  },
  {
   "cell_type": "markdown",
   "id": "94d92ad7-5603-4698-929d-71e4cfc04c09",
   "metadata": {},
   "source": [
    "## 行列の次元数　numpy.array.shape\n",
    "\n",
    "配列(4, 3) (行,列)"
   ]
  },
  {
   "cell_type": "code",
   "execution_count": 12,
   "id": "2dc3c973-feb2-4973-a141-95a4c4d25ce5",
   "metadata": {},
   "outputs": [
    {
     "name": "stdout",
     "output_type": "stream",
     "text": [
      "shape :  (4, 3)  row :  4  column :  3\n"
     ]
    }
   ],
   "source": [
    "arr = np.array([[1, 1, 1],\n",
    "                [1, 1, 1],\n",
    "                [1, 1, 1],\n",
    "                [1, 1, 1]])\n",
    "print(\"shape : \", arr.shape, \" row : \", arr.shape[0], \" column : \", arr.shape[1])"
   ]
  },
  {
   "cell_type": "markdown",
   "id": "82749c17-7d10-4714-a2c4-d63bdb94e2fa",
   "metadata": {},
   "source": [
    "## 配列を比較して最大値,最小値を取得　numpy.maximum / minimum / fmax / fmin\n",
    "\n",
    "複数の配列の要素を比較して最大値を取得する\n",
    "\n",
    "maximum minimum : 欠測値をとる\n",
    "\n",
    "fmax fmin : 欠測値を考慮しない"
   ]
  },
  {
   "cell_type": "code",
   "execution_count": 42,
   "id": "02dafd70-f846-4f3a-b710-3902958e8f70",
   "metadata": {},
   "outputs": [
    {
     "name": "stdout",
     "output_type": "stream",
     "text": [
      "[ 5. nan  9.] [ 2. nan  1.]\n",
      "[5. 5. 9.] [2. 5. 1.]\n"
     ]
    }
   ],
   "source": [
    "a1 = np.array([2, 5, 9])\n",
    "a2 = np.array([5, np.nan, 1])\n",
    "print(np.maximum(a1, a2), np.minimum(a1, a2))\n",
    "print(np.fmax(a1, a2), np.fmin(a1, a2))"
   ]
  },
  {
   "cell_type": "markdown",
   "id": "a0c60cd5-b942-4971-8d5a-9589ff9d8d2e",
   "metadata": {},
   "source": [
    "## 配列の要素を四則演算　numpy.add / subtract / multiply / divide"
   ]
  },
  {
   "cell_type": "code",
   "execution_count": 45,
   "id": "d9d0a9b1-6bd9-4d3e-b686-b48ebbdc3dba",
   "metadata": {},
   "outputs": [
    {
     "name": "stdout",
     "output_type": "stream",
     "text": [
      "+ :  [ 6 10 12]\n",
      "- :  [2 6 6]\n",
      "× :  [ 8 16 27]\n",
      "÷ :  [2. 4. 3.]\n"
     ]
    }
   ],
   "source": [
    "a1 = np.array([4, 8, 9])\n",
    "a2 = np.array([2, 2, 3])\n",
    "\n",
    "print(\"+ : \", np.add(a1, a2))\n",
    "print(\"- : \", np.subtract(a1, a2))\n",
    "print(\"× : \", np.multiply(a1, a2))\n",
    "print(\"÷ : \", np.divide(a1, a2))"
   ]
  },
  {
   "cell_type": "markdown",
   "id": "b90d45b5-dd42-430c-92d0-cbd1c47bd6d2",
   "metadata": {},
   "source": [
    "## 配列を結合　numpy.concatenate\n",
    "\n",
    "np.concatenate([結合したいリスト], axis = {0 : 行方向, 1 : 列方向})"
   ]
  },
  {
   "cell_type": "code",
   "execution_count": 49,
   "id": "4f9ebb22-672a-447f-94d3-7fd1e94fe488",
   "metadata": {},
   "outputs": [
    {
     "name": "stdout",
     "output_type": "stream",
     "text": [
      "[[4 8 9]\n",
      " [4 8 9]\n",
      " [2 2 3]\n",
      " [2 2 3]]\n",
      "[[4 8 9 2 2 3]\n",
      " [4 8 9 2 2 3]]\n"
     ]
    }
   ],
   "source": [
    "a1 = np.array([[4, 8, 9], [4, 8, 9]])\n",
    "a2 = np.array([[2, 2, 3], [2, 2, 3]])\n",
    "\n",
    "print(np.concatenate([a1, a2], axis = 0))\n",
    "print(np.concatenate([a1, a2], axis = 1))"
   ]
  },
  {
   "cell_type": "markdown",
   "id": "f52dde96-0875-4cbe-b52a-e5aad4755bd0",
   "metadata": {},
   "source": [
    "## 配列の最大値・最小値を取得する　numpy.max / min / nanmax / nanmin\n",
    "\n",
    "max min 配列の最大値・最小値を取得/nanmax nanmin欠損値を除く"
   ]
  },
  {
   "cell_type": "code",
   "execution_count": 8,
   "id": "77b933ab-ecf5-4625-8fdb-bb873f2dd4a6",
   "metadata": {},
   "outputs": [
    {
     "name": "stdout",
     "output_type": "stream",
     "text": [
      "nan 1\n",
      "5.0 1.0\n"
     ]
    }
   ],
   "source": [
    "a = np.array([[1, 2, 3], [4, 5, 6]])\n",
    "nana = np.array([[1, 2, 3], [4, 5, np.nan]])\n",
    "print(np.max(a), np.min(a))\n",
    "print(np.nanmax(nana), np.nanmin(nana))"
   ]
  },
  {
   "cell_type": "markdown",
   "id": "a1842eb3-05b0-46c7-94ac-bc67ec28146d",
   "metadata": {},
   "source": [
    "## 配列の最大値・最小値のインデックスを取得する　np.argmax / argmin"
   ]
  },
  {
   "cell_type": "code",
   "execution_count": 11,
   "id": "aea56f9c-4b05-4c7c-ad36-9be014976187",
   "metadata": {},
   "outputs": [
    {
     "name": "stdout",
     "output_type": "stream",
     "text": [
      "配列を一次元： 9 それぞれの配列ごと（第二引数に１）: [4 4]\n"
     ]
    }
   ],
   "source": [
    "a = np.array([[10, 20, 30, 40, 50], [60, 70, 80, 90, 100]])\n",
    "\n",
    "print(\"配列を一次元：\",np.argmax(a), \"それぞれの配列ごと（第二引数に１）:\", np.argmax(a,1))"
   ]
  },
  {
   "cell_type": "markdown",
   "id": "26d2ed4e-8873-467d-b7fd-0249cc931151",
   "metadata": {},
   "source": [
    "## 配列の平均を取得する　np.mean / np.nanmean\n",
    "\n",
    "mean 配列の平均を算出する / nanmean 欠測値を除く"
   ]
  },
  {
   "cell_type": "code",
   "execution_count": 6,
   "id": "01383cde-4c2b-4be0-ac75-cd052d011162",
   "metadata": {},
   "outputs": [
    {
     "name": "stdout",
     "output_type": "stream",
     "text": [
      "4.0\n",
      "列の平均 [[ 1  5 12]\n",
      " [ 0  5  1]] [0.5 5.  6.5]\n",
      "行の平均 [[ 1  5 12]\n",
      " [ 0  5  1]] [6. 2.]\n",
      "4.6\n"
     ]
    }
   ],
   "source": [
    "a = np.array([1, 5, 12, 0, 5, 1])\n",
    "print(np.mean(a))\n",
    "\n",
    "a2 = np.reshape(a, (2, 3))\n",
    "print(\"列の平均\", a2, np.mean(a2, axis = 0))\n",
    "print(\"行の平均\",a2, np.mean(a2, axis = 1))\n",
    "\n",
    "a3 = np.array([1, 5, 12, 0, 5, np.nan])\n",
    "print(np.nanmean(a3))"
   ]
  },
  {
   "cell_type": "markdown",
   "id": "b3e83cca-988d-468e-80af-b03635ec7180",
   "metadata": {},
   "source": [
    "## 配列の絶対値を取得する np.abs"
   ]
  },
  {
   "cell_type": "code",
   "execution_count": 7,
   "id": "f93bb45c-1b99-4533-9aed-c1c24d1cd1c9",
   "metadata": {},
   "outputs": [
    {
     "name": "stdout",
     "output_type": "stream",
     "text": [
      "[2 5 8 1 3]\n"
     ]
    }
   ],
   "source": [
    "a = np.array([-2, 5, -8, -1, -3])\n",
    "print(np.abs(a))"
   ]
  },
  {
   "cell_type": "markdown",
   "id": "cc3bb0e3-96a5-4bdf-932f-f5bc00e3817b",
   "metadata": {},
   "source": [
    "## 配列の単純平均・加重平均を取得　np.average"
   ]
  },
  {
   "cell_type": "code",
   "execution_count": 9,
   "id": "0058fdd1-b8d9-46de-baf1-5e2de4021b3f",
   "metadata": {},
   "outputs": [
    {
     "name": "stdout",
     "output_type": "stream",
     "text": [
      "単純平均 4.0\n",
      "加重平均 2.222222222222222\n"
     ]
    }
   ],
   "source": [
    "a = np.array([1, 5, 12, 0, 5, 1])\n",
    "print(\"単純平均\", np.average(a))\n",
    "w = np.array([0.4, 0.2, 0.1, 0.5, 0.2, 0.4])\n",
    "print(\"加重平均\", np.average(a, weights = w))"
   ]
  },
  {
   "cell_type": "markdown",
   "id": "211bfb38-fdc5-475e-ab00-96a18cb01c73",
   "metadata": {},
   "source": [
    "## 配列の形状を変換　np.reshape\n",
    "\n",
    "配列の次元数を変更する (行, 列, 三次元，...)で指定"
   ]
  },
  {
   "cell_type": "code",
   "execution_count": 15,
   "id": "c82fe57b-0143-4a63-bc4f-c3671715f484",
   "metadata": {},
   "outputs": [
    {
     "name": "stdout",
     "output_type": "stream",
     "text": [
      "[[ 1  5 12]\n",
      " [ 0  5  1]]\n"
     ]
    }
   ],
   "source": [
    "a = np.array([1, 5, 12, 0, 5, 1])\n",
    "print(np.reshape(a, (2, 3)))"
   ]
  },
  {
   "cell_type": "markdown",
   "id": "b58a912a-cdda-438b-ae76-e69ce6eedbae",
   "metadata": {},
   "source": [
    "## 配列のインデックスを指定して値を置換　np.put\n",
    "\n",
    "put関数の第一引数に配列を指定する．第二引数に変更する値のインデックス，第三引数に置き換え後の値を指定．"
   ]
  },
  {
   "cell_type": "code",
   "execution_count": 13,
   "id": "2d0da9a9-228a-48fd-921b-385ba8456906",
   "metadata": {},
   "outputs": [
    {
     "name": "stdout",
     "output_type": "stream",
     "text": [
      "[  1   5  12   0   5 500]\n",
      "[ 10  20  30   0   5 500]\n"
     ]
    }
   ],
   "source": [
    "a = np.array([1, 5, 12, 0, 5, 1])\n",
    "np.put(a, 5, 500)\n",
    "print(a)\n",
    "b = a\n",
    "np.put(a, [0, 1, 2], [10, 20, 30])\n",
    "print(a)"
   ]
  },
  {
   "cell_type": "markdown",
   "id": "d2a7b967-9dda-4b90-8cab-5b197189b1c5",
   "metadata": {},
   "source": [
    "## 配列の値が条件に一致するか判定　np.all np.any\n",
    "\n",
    "all\n",
    "\n",
    "デフォルトでは各要素に0がある場合はFalse,0がない場合はTrueが返される．\n",
    "\n",
    "axis = 0 : 列方向に判定 axis = 1 : 行方向に判定\n",
    "\n",
    "判定の条件の指定も可能．\n",
    "\n",
    "any\n",
    "\n",
    "いずれかの値が条件に一致する場合はTrue"
   ]
  },
  {
   "cell_type": "code",
   "execution_count": 22,
   "id": "e25afbae-aaba-46c8-b213-66567d5628e4",
   "metadata": {},
   "outputs": [
    {
     "name": "stdout",
     "output_type": "stream",
     "text": [
      "False\n",
      "[False  True False  True  True]\n",
      "[ True False False]\n",
      "False\n",
      "[ True False  True False  True]\n",
      "True\n"
     ]
    }
   ],
   "source": [
    "a = np.array([[1, 7, 1, 3, 1],\n",
    "              [0, 1, 0, 3, 1],\n",
    "              [3, 8, 0, 6, 1]])\n",
    "print(np.all(a))\n",
    "print(np.all(a, axis = 0))\n",
    "print(np.all(a, axis = 1))\n",
    "print(np.all(a > 5))\n",
    "print(np.all(a < 5, axis = 0))\n",
    "print(np.any(a < 5))"
   ]
  },
  {
   "cell_type": "markdown",
   "id": "3c79909d-de6e-4364-b8c6-97b2770ae20f",
   "metadata": {},
   "source": [
    "## 条件を指定し配列の値を置換　numpy.putmask\n",
    "\n",
    "第一引数リスト，第二引数条件，第三引数置換の値"
   ]
  },
  {
   "cell_type": "code",
   "execution_count": 5,
   "id": "0b17dae6-c135-4a9a-bfe3-81220ecaa5a0",
   "metadata": {},
   "outputs": [
    {
     "name": "stdout",
     "output_type": "stream",
     "text": [
      "[  1 100   2 100 100   3   4]\n"
     ]
    }
   ],
   "source": [
    "a1 = np.array([1, 5, 2, 6, 8, 3, 4])\n",
    "np.putmask(a1, a1 >= 5, 100)\n",
    "print(a1)"
   ]
  },
  {
   "cell_type": "markdown",
   "id": "f8a352f8-6ff3-4b4f-bff1-a4803c73d8fc",
   "metadata": {},
   "source": [
    "## 配列の末尾に要素を追加　numpy.append"
   ]
  },
  {
   "cell_type": "code",
   "execution_count": 7,
   "id": "ed6ae7be-9196-4657-82b6-10039ebef458",
   "metadata": {},
   "outputs": [
    {
     "data": {
      "text/plain": [
       "array([ 1,  5,  2,  6,  8,  3,  4,  7,  9,  9, 20,  4])"
      ]
     },
     "execution_count": 7,
     "metadata": {},
     "output_type": "execute_result"
    }
   ],
   "source": [
    "a1 = np.array([1, 5, 2, 6, 8, 3, 4, 7, 9])\n",
    "np.append(a1, [9, 20, 4])"
   ]
  },
  {
   "cell_type": "code",
   "execution_count": 11,
   "id": "0ce68838-4ef4-476b-b114-b6a32932496f",
   "metadata": {},
   "outputs": [
    {
     "name": "stdout",
     "output_type": "stream",
     "text": [
      "[[1 5 2]\n",
      " [6 8 3]\n",
      " [4 7 9]]\n",
      "[[1 5 2]\n",
      " [6 8 3]\n",
      " [4 7 9]\n",
      " [1 2 3]]\n"
     ]
    }
   ],
   "source": [
    "a2 = a1.reshape(3,3)\n",
    "b = np.array([[1, 2, 3]])\n",
    "print(a2)\n",
    "print(np.append(a2, b, axis = 0))#行方向"
   ]
  },
  {
   "cell_type": "code",
   "execution_count": null,
   "id": "c0bc2d27-20d7-44bc-8e7c-5b0d5b2a3c7b",
   "metadata": {},
   "outputs": [],
   "source": []
  }
 ],
 "metadata": {
  "kernelspec": {
   "display_name": "Python 3 (ipykernel)",
   "language": "python",
   "name": "python3"
  },
  "language_info": {
   "codemirror_mode": {
    "name": "ipython",
    "version": 3
   },
   "file_extension": ".py",
   "mimetype": "text/x-python",
   "name": "python",
   "nbconvert_exporter": "python",
   "pygments_lexer": "ipython3",
   "version": "3.12.3"
  }
 },
 "nbformat": 4,
 "nbformat_minor": 5
}
