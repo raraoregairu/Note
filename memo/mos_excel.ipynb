{
 "cells": [
  {
   "cell_type": "code",
   "execution_count": 90,
   "id": "23f49f16",
   "metadata": {},
   "outputs": [],
   "source": [
    "from IPython.display import HTML, display\n",
    "import sys\n",
    "import traceback\n",
    "from io import StringIO\n",
    "import pandas as pd\n",
    "import os"
   ]
  },
  {
   "cell_type": "markdown",
   "id": "f3c8fc55",
   "metadata": {},
   "source": [
    "テキストのコピー"
   ]
  },
  {
   "cell_type": "code",
   "execution_count": 81,
   "id": "c0f2588e",
   "metadata": {
    "code_folding": [
     0
    ]
   },
   "outputs": [],
   "source": [
    "def cop(text):\n",
    "    # コピーするテキスト（複数行対応）\n",
    "    copy_text = text.replace(\"\\n\", \"\\\\n\").replace(\"'\", \"\\\\'\")\n",
    "    \n",
    "    # HTMLとJavaScriptを埋め込む\n",
    "    html_code = f\"\"\"\n",
    "    <textarea id=\"output-message\" style=\"width:100%; height:100px;\">{text}</textarea>\n",
    "    <button onclick=\"navigator.clipboard.writeText('{copy_text}').then(() => alert('コピーしました！'))\">\n",
    "        クリップボードにコピー\n",
    "    </button>\n",
    "    \"\"\"\n",
    "    # 表示\n",
    "    display(HTML(html_code))\n",
    "    print(\"以下の内容をコピーできます：\")\n",
    "    print(text)"
   ]
  },
  {
   "cell_type": "markdown",
   "id": "c22db912",
   "metadata": {},
   "source": [
    "関数での出力内容とエラー文"
   ]
  },
  {
   "cell_type": "code",
   "execution_count": 110,
   "id": "1c5c528b",
   "metadata": {
    "code_folding": [
     0
    ]
   },
   "outputs": [],
   "source": [
    "def ec(func):\n",
    "    # 標準出力とエラー出力をキャプチャするためのStringIO\n",
    "    stdout_capture = StringIO()\n",
    "    stderr_capture = StringIO()\n",
    "    \n",
    "    # 標準出力とエラー出力を一時的に置き換え\n",
    "    sys.stdout = stdout_capture\n",
    "    sys.stderr = stderr_capture\n",
    "    \n",
    "    try:\n",
    "        func()  # 渡された関数を実行\n",
    "    except Exception:\n",
    "        # 例外発生時はトレースバックをキャプチャ\n",
    "        traceback.print_exc()\n",
    "    finally:\n",
    "        # 標準出力とエラー出力を元に戻す\n",
    "        sys.stdout = sys.__stdout__\n",
    "        sys.stderr = sys.__stderr__\n",
    "\n",
    "        # 出力内容とエラーを取得\n",
    "        output_content = stdout_capture.getvalue()\n",
    "        error_content = stderr_capture.getvalue()\n",
    "        combined_content = f\"【出力内容】\\n{output_content}\\n【エラー内容】\\n{error_content}\"\n",
    "        \n",
    "        # HTMLでコピー用ボタンを表示\n",
    "        html_code = f\"\"\"\n",
    "        <textarea id=\"output-message\" style=\"width:100%; height:200px;\">{combined_content}</textarea>\n",
    "        <button onclick=\"navigator.clipboard.writeText(document.getElementById('output-message').value).then(() => alert('出力内容がクリップボードにコピーされました！'))\">\n",
    "            クリップボードにコピー\n",
    "        </button>\n",
    "        \"\"\"\n",
    "        display(HTML(html_code))"
   ]
  },
  {
   "cell_type": "markdown",
   "id": "cde2e568",
   "metadata": {},
   "source": [
    "DataFrameをExcelファイルに書き込み\n",
    "\n",
    "<hr style=\"height:2px;border-width:0;color:black;background-color:black\">\n",
    "\n",
    "\n"
   ]
  },
  {
   "cell_type": "code",
   "execution_count": 77,
   "id": "d7bcc621",
   "metadata": {},
   "outputs": [],
   "source": [
    "text = \"\"\"df = pd.DataFrame([[11, 21, 31], [12, 22, 32], [31, 32, 33]],\n",
    "                  index=['one', 'two', 'three'], columns=['a', 'b', 'c'])\"\"\""
   ]
  },
  {
   "cell_type": "code",
   "execution_count": 82,
   "id": "65d1ae8d",
   "metadata": {},
   "outputs": [
    {
     "data": {
      "text/html": [
       "\n",
       "    <textarea id=\"output-message\" style=\"width:100%; height:100px;\">df = pd.DataFrame([[11, 21, 31], [12, 22, 32], [31, 32, 33]],\n",
       "                  index=['one', 'two', 'three'], columns=['a', 'b', 'c'])</textarea>\n",
       "    <button onclick=\"navigator.clipboard.writeText('df = pd.DataFrame([[11, 21, 31], [12, 22, 32], [31, 32, 33]],\\n                  index=[\\'one\\', \\'two\\', \\'three\\'], columns=[\\'a\\', \\'b\\', \\'c\\'])').then(() => alert('コピーしました！'))\">\n",
       "        クリップボードにコピー\n",
       "    </button>\n",
       "    "
      ],
      "text/plain": [
       "<IPython.core.display.HTML object>"
      ]
     },
     "metadata": {},
     "output_type": "display_data"
    }
   ],
   "source": [
    "cop(text)"
   ]
  },
  {
   "cell_type": "code",
   "execution_count": 100,
   "id": "e83b470b",
   "metadata": {
    "code_folding": []
   },
   "outputs": [],
   "source": [
    "def pr(): \n",
    "    df = pd.DataFrame([[11, 21, 31], [12, 22, 32], [31, 32, 33]],\n",
    "                      index=['one', 'two', 'three'], columns=['a', 'b', 'c'])\n",
    "    print(df)"
   ]
  },
  {
   "cell_type": "code",
   "execution_count": 102,
   "id": "d958f778",
   "metadata": {},
   "outputs": [
    {
     "data": {
      "text/html": [
       "<div>\n",
       "<style scoped>\n",
       "    .dataframe tbody tr th:only-of-type {\n",
       "        vertical-align: middle;\n",
       "    }\n",
       "\n",
       "    .dataframe tbody tr th {\n",
       "        vertical-align: top;\n",
       "    }\n",
       "\n",
       "    .dataframe thead th {\n",
       "        text-align: right;\n",
       "    }\n",
       "</style>\n",
       "<table border=\"1\" class=\"dataframe\">\n",
       "  <thead>\n",
       "    <tr style=\"text-align: right;\">\n",
       "      <th></th>\n",
       "      <th>a</th>\n",
       "      <th>b</th>\n",
       "      <th>c</th>\n",
       "    </tr>\n",
       "  </thead>\n",
       "  <tbody>\n",
       "    <tr>\n",
       "      <th>one</th>\n",
       "      <td>11</td>\n",
       "      <td>21</td>\n",
       "      <td>31</td>\n",
       "    </tr>\n",
       "    <tr>\n",
       "      <th>two</th>\n",
       "      <td>12</td>\n",
       "      <td>22</td>\n",
       "      <td>32</td>\n",
       "    </tr>\n",
       "    <tr>\n",
       "      <th>three</th>\n",
       "      <td>31</td>\n",
       "      <td>32</td>\n",
       "      <td>33</td>\n",
       "    </tr>\n",
       "  </tbody>\n",
       "</table>\n",
       "</div>"
      ],
      "text/plain": [
       "        a   b   c\n",
       "one    11  21  31\n",
       "two    12  22  32\n",
       "three  31  32  33"
      ]
     },
     "execution_count": 102,
     "metadata": {},
     "output_type": "execute_result"
    }
   ],
   "source": [
    "this."
   ]
  },
  {
   "cell_type": "code",
   "execution_count": 105,
   "id": "725d618a",
   "metadata": {},
   "outputs": [],
   "source": [
    "def a():\n",
    "    1 / 0 "
   ]
  },
  {
   "cell_type": "code",
   "execution_count": 112,
   "id": "e9fc5436",
   "metadata": {},
   "outputs": [
    {
     "data": {
      "text/html": [
       "\n",
       "        <textarea id=\"output-message\" style=\"width:100%; height:200px;\">【出力内容】\n",
       "\n",
       "【エラー内容】\n",
       "Traceback (most recent call last):\n",
       "  File \"C:\\Users\\rara0416\\AppData\\Local\\Temp\\ipykernel_13132\\729132234.py\", line 11, in ec\n",
       "    func()  # 渡された関数を実行\n",
       "  File \"C:\\Users\\rara0416\\AppData\\Local\\Temp\\ipykernel_13132\\1351883169.py\", line 2, in a\n",
       "    1 / 0\n",
       "ZeroDivisionError: division by zero\n",
       "</textarea>\n",
       "        <button onclick=\"navigator.clipboard.writeText(document.getElementById('output-message').value).then(() => alert('出力内容がクリップボードにコピーされました！'))\">\n",
       "            クリップボードにコピー\n",
       "        </button>\n",
       "        "
      ],
      "text/plain": [
       "<IPython.core.display.HTML object>"
      ]
     },
     "metadata": {},
     "output_type": "display_data"
    }
   ],
   "source": [
    "ec(a)"
   ]
  },
  {
   "cell_type": "code",
   "execution_count": 88,
   "id": "9557c097",
   "metadata": {},
   "outputs": [],
   "source": [
    "import openpyxl"
   ]
  },
  {
   "cell_type": "code",
   "execution_count": 96,
   "id": "807f6278",
   "metadata": {
    "code_folding": []
   },
   "outputs": [],
   "source": [
    "def gc():\n",
    "    #現在ディレクトリ\n",
    "    dire = os.getcwd()\n",
    "    print(\"Directry: {}\".format(dire))"
   ]
  },
  {
   "cell_type": "code",
   "execution_count": 111,
   "id": "282947d9",
   "metadata": {},
   "outputs": [
    {
     "data": {
      "text/html": [
       "\n",
       "        <textarea id=\"output-message\" style=\"width:100%; height:200px;\">【出力内容】\n",
       "Directry: C:\\Users\\rara0416\n",
       "\n",
       "【エラー内容】\n",
       "</textarea>\n",
       "        <button onclick=\"navigator.clipboard.writeText(document.getElementById('output-message').value).then(() => alert('出力内容がクリップボードにコピーされました！'))\">\n",
       "            クリップボードにコピー\n",
       "        </button>\n",
       "        "
      ],
      "text/plain": [
       "<IPython.core.display.HTML object>"
      ]
     },
     "metadata": {},
     "output_type": "display_data"
    }
   ],
   "source": [
    "ec(gc)"
   ]
  },
  {
   "cell_type": "code",
   "execution_count": null,
   "id": "661b7478",
   "metadata": {},
   "outputs": [],
   "source": [
    "import openpyxl\n",
    "import glob\n",
    "wb = openpyxl.Workbook()\n",
    "sheet = wb.active\n",
    "sheet.title = 'test_sheet_1'\n",
    "wb.save('test.xlsx')\n",
    "glob.glob(\"*.xlsx\")"
   ]
  },
  {
   "cell_type": "code",
   "execution_count": null,
   "id": "7611bed9",
   "metadata": {},
   "outputs": [],
   "source": []
  }
 ],
 "metadata": {
  "kernelspec": {
   "display_name": "Python 3 (ipykernel)",
   "language": "python",
   "name": "python3"
  },
  "language_info": {
   "codemirror_mode": {
    "name": "ipython",
    "version": 3
   },
   "file_extension": ".py",
   "mimetype": "text/x-python",
   "name": "python",
   "nbconvert_exporter": "python",
   "pygments_lexer": "ipython3",
   "version": "3.7.15"
  }
 },
 "nbformat": 4,
 "nbformat_minor": 5
}
