{
 "cells": [
  {
   "cell_type": "markdown",
   "id": "53966969",
   "metadata": {},
   "source": [
    "# 📚 Markdownセル～①概要～"
   ]
  },
  {
   "cell_type": "markdown",
   "id": "bb3f588c",
   "metadata": {},
   "source": [
    "<h2 style=\"border-bottom: 3px solid #3498db; display: inline-block; padding-bottom: 4px;\">📌 はじめに</h2>"
   ]
  },
  {
   "cell_type": "markdown",
   "id": "d69de1bf",
   "metadata": {},
   "source": [
    "<div style=\"border-left: 5px solid #3498db; padding: 10px; background-color: #f0f8ff;height: 130px;\">\n",
    "    \n",
    "普段，Jupyter Notebookを使って情報を整理したり，学習記録を残している.<br>   \n",
    "\n",
    "Jupyter Notebookでは **Markdown**というセルタイプを活用することで,<br>見やすく整理されたノートを作成することができる. \n",
    "\n",
    "そこで、今回 **Jupyter Notebookで使えるMarkdownセル**に関することを整理し,できることをまとめる.\n",
    "    \n",
    "</div>"
   ]
  },
  {
   "cell_type": "markdown",
   "id": "620a60b0",
   "metadata": {},
   "source": [
    "<div style=\"border: 4px solid #a7d39f; padding: 10px; border-radius: 5px;  width: 60%;\">\n",
    "    <h3 style=\"color: #3498db;\">📖 目次</h3>\n",
    "    <ul style=\"list-style-type: none; padding-left: 10px;\">\n",
    "        <li style=\"font-size: 18px; font-weight: bold;\"><a href=\"#📌-Markdownセルとは\">📌 Markdownセルとは</a></li>\n",
    "     </ul>\n",
    "    <ul style=\"list-style-type: none; padding-left: 20px;\">\n",
    "            <li style=\"font-size: 14px;\"><a href=\"#🖱️-選択方法\">🖱️ 選択方法</a></li>\n",
    "     </ul>\n",
    "    <ul style=\"list-style-type: none; padding-left: 10px;\">\n",
    "        <li style=\"font-size: 18px; font-weight: bold;\"><a href=\"#📌-Markdownセルで使える記法\" >📌 Markdownセルで使える記法</a></li>\n",
    "     </ul>\n",
    "    <ul style=\"list-style-type: none; padding-left: 20px;\">\n",
    "            <li style=\"font-size: 14px;\"><a href=\"#📓-Markdown記法\">📓 Markdown記法</a></li>\n",
    "            <li style=\"font-size: 14px;\"><a href=\"#📓-HTML記法\">📓 HTML記法</a></li>\n",
    "            <li style=\"font-size: 14px;\"><a href=\"#📓-LaTex記法\">📓 LaTex記法</a></li>\n",
    "     </ul>\n",
    "    <ul style=\"list-style-type: none; padding-left: 10px;\">\n",
    "        <li style=\"font-size: 18px; font-weight: bold;\"><a href=\"#📌-Markdownセルでのノートの例\">📌 Markdownセルでのノートの例</a></li>\n",
    "    </ul>\n",
    "</div>"
   ]
  },
  {
   "cell_type": "markdown",
   "id": "0f650a6a",
   "metadata": {},
   "source": [
    "<h2 style=\"border-bottom: 3px solid #3498db; display: inline-block; padding-bottom: 2px;\"id=\"📌-Markdownセルとは\">📌 Markdownセルとは</h2>"
   ]
  },
  {
   "cell_type": "markdown",
   "id": "1143c1d5",
   "metadata": {},
   "source": [
    "<figure style=\"float: left;text-align: left; margin: 10px 0;\">\n",
    "    <img src=\"png/JupyterNotebookcell.png\" width=\"500\" style=\"border: 1px solid #ddd; border-radius: 5px;\">\n",
    "    <figcaption style=\"font-size: 16px; color: gray; margin-top: 5px;\">\n",
    "       🖼️ Jupyter Notebookのセルタイプ\n",
    "    </figcaption>\n",
    "</figure>"
   ]
  },
  {
   "cell_type": "markdown",
   "id": "0d0a260d",
   "metadata": {},
   "source": [
    "Jupytre Notebookではセルのタイプを「**Markdown**」や「**Code**」などに変更することができる．\n",
    "\n",
    "その中でも、Markdownセルは、文章や見出し、リスト、リンクなどを記述するために使う．\n",
    "\n",
    "Markdownセルを使うことで、ノートブック内で簡単に整ったテキストを表示することができる．"
   ]
  },
  {
   "cell_type": "markdown",
   "id": "1585ae47",
   "metadata": {},
   "source": [
    "<h3 style=\"border-bottom: 2px solid #3498db; display: inline-block; padding-bottom: 2px;\"id=\"🖱️-選択方法\">🖱️ 選択方法</h3>"
   ]
  },
  {
   "cell_type": "markdown",
   "id": "a42112c6",
   "metadata": {},
   "source": [
    " - 上部のドロップダウンメニューで「**Markdown**」を選択する．\n",
    " \n",
    " - <b>キーボードショートカット`M`</b>で変更する．"
   ]
  },
  {
   "cell_type": "markdown",
   "id": "fd33ede3",
   "metadata": {},
   "source": [
    "<h2 id =\"markdownuse\" style=\"border-bottom: 3px solid #3498db; display: inline-block; padding-bottom: 2px;\"id=\"📌-Markdownセルで使える記法\">📌 Markdownセルで使える記法</h2>"
   ]
  },
  {
   "cell_type": "markdown",
   "id": "174ae629",
   "metadata": {},
   "source": [
    "Jupyter NotebookのMarkdownセルでは,**Markdown記法・HTMLタグ・LaTeX記法**の3つを使い分けることができる．\n",
    "\n",
    "以下，それぞれの記法の概要と特徴を簡単にまとめる．"
   ]
  },
  {
   "cell_type": "markdown",
   "id": "1fede061",
   "metadata": {},
   "source": [
    "<h3 style=\"border-bottom: 2px solid #3498db; display: inline-block; padding-bottom: 3px;\" id =\"📓-Markdown記法\">📓 Markdown記法</h3>"
   ]
  },
  {
   "cell_type": "markdown",
   "id": "11bb550a",
   "metadata": {},
   "source": [
    "Markdownは，文書をシンプルに記述するために使われる軽量マークアップ言語である。\n",
    "\n",
    "<br>\n",
    "テキストを簡単に構造化できるように設計されており，コードを書く際に<b>複雑なタグを使うことなく</b><br>基本的なフォーマットを適用することができる．"
   ]
  },
  {
   "cell_type": "markdown",
   "id": "50183e78",
   "metadata": {},
   "source": [
    "<details>\n",
    "    <summary style=\"font-size: 80%; font-weight: bold;\">▶ マークアップ言語とは</summary>\n",
    "    <div style=\"border-left: 4px solid #3498db; padding: 8px; background-color: #f8f9fa;\">\n",
    "        Webサイトの文章・文字のサイズ・画像などにタグ付けをし，コンピュータに伝達するための言語．<br>\n",
    "        「タグ」という特定の文字列で囲むことで，元の文に構造・装飾などを反映させる言語．\n",
    "    </div>\n",
    "</details>"
   ]
  },
  {
   "cell_type": "markdown",
   "id": "d8fb3e46",
   "metadata": {},
   "source": [
    "<details>\n",
    "    <summary style=\"font-size: 80%; font-weight: bold;\">▶ タグとは</summary>\n",
    "    <div style=\"border-left: 4px solid #3498db; padding: 8px; background-color: #f8f9fa;\">\n",
    "        ウェブページの構造を定義するために使用される要素．<br>各タグは&lt;タグ名&gt;内容&lt;/タグ名&gt;のような形で記述され，文章の見た目や機能を指定する．\n",
    "    </div>\n",
    "</details>"
   ]
  },
  {
   "cell_type": "markdown",
   "id": "695d1b88",
   "metadata": {},
   "source": [
    "<h3 style=\"border-bottom: 1px solid #3498db; display: inline-block; padding-bottom: 2px;\">📝 特徴</h3>"
   ]
  },
  {
   "cell_type": "markdown",
   "id": "ecd5b052",
   "metadata": {},
   "source": [
    "1. **手軽に** 文章構造を明示できる  \n",
    "2. **簡単で、直感的に** 記述できる  \n",
    "3. **特別なツール不要** で読み書き可能  \n",
    "4. **対応アプリを使えば** 快適に文書作成できる  "
   ]
  },
  {
   "cell_type": "markdown",
   "id": "0d9be6d8",
   "metadata": {},
   "source": [
    "<h3 style=\"border-bottom: 3px solid #3498db; display: inline-block; padding-bottom: 3px;\"id=\"📓-HTML記法\">📓 HTML記法</h3>"
   ]
  },
  {
   "cell_type": "markdown",
   "id": "2782b9bc",
   "metadata": {},
   "source": [
    "HTMLは，ウェブページを作成するために使われる標準的なマークアップ言語である．\n",
    "\n",
    "基本的には，**タグ**を使って要素を囲む形で記述する．\n",
    "\n",
    "HTMLでは，タグ内に「**属性**」を指定することができる．\n",
    "\n",
    "属性はタグに追加情報を与え，要素の表示方法や動作を変更するために使われる．"
   ]
  },
  {
   "cell_type": "markdown",
   "id": "70f45a08",
   "metadata": {},
   "source": [
    "<h3 style=\"border-bottom: 1px solid #3498db; display: inline-block; padding-bottom: 2px;\">📝 特徴</h3>"
   ]
  },
  {
   "cell_type": "markdown",
   "id": "03ed9867",
   "metadata": {},
   "source": [
    "1. **詳細に**文章構造を指定できる .\n",
    "2. **柔軟で，多彩なデザインやレイアウト**を実現できる.\n",
    "3. **Webブラウザ**があればそのまま表示できる .\n",
    "4. **CSSやJavaScriptと組み合わせれば**高度な表現が可能."
   ]
  },
  {
   "cell_type": "markdown",
   "id": "55b67116",
   "metadata": {},
   "source": [
    "<h3 style=\"border-bottom: 3px solid #3498db; display: inline-block; padding-bottom: 3px;\"id=\"📓-LaTex記法\">📓 LaTex記法</h3>"
   ]
  },
  {
   "cell_type": "markdown",
   "id": "bea2b9a2",
   "metadata": {},
   "source": [
    "LaTeXは，主に学術的な文書や論文を作成するために使われる文書作成システムである．\n",
    "\n",
    "コマンドを使って**数式**の表示を簡単に美しく行うことができる．"
   ]
  },
  {
   "cell_type": "markdown",
   "id": "df6fb447",
   "metadata": {},
   "source": [
    "<h3 style=\"border-bottom: 1px solid #3498db; display: inline-block; padding-bottom: 2px;\">\n",
    "📝 特徴\n",
    "</h3>"
   ]
  },
  {
   "cell_type": "markdown",
   "id": "0833febf",
   "metadata": {},
   "source": [
    "1. **数式**や**記号**を美しく表示できる.\n",
    "2. 視覚的に理解しやすく、教育的にも有用である."
   ]
  },
  {
   "cell_type": "markdown",
   "id": "9dc055f7",
   "metadata": {},
   "source": [
    "<div style=\"border-left: 5px solid #2c3e50; background-color: #f8f8f8; padding: 12px 16px; border-radius: 6px; margin-top: 15px;\">\n",
    "\n",
    "  <p style=\"margin: 0; line-height: 1.8; font-size: 15px;\">\n",
    "    このように，<strong>Markdown・LaTeX・HTML</strong> には，それぞれに得意な表現方法があり，使い分けることで <br>\n",
    "      Jupyter Notebook をより柔軟かつ視覚的に魅力的に構成できる．<br>\n",
    "  </p>\n",
    "\n",
    "</div>"
   ]
  },
  {
   "cell_type": "markdown",
   "id": "a1796e83",
   "metadata": {},
   "source": [
    "<h2 style=\"border-bottom: 3px solid #3498db; display: inline-block; padding-bottom: 2px;\"id=\"📌-Markdownセルでのノートの例\">📌 Markdownセルでのノートの例</h2>"
   ]
  },
  {
   "cell_type": "markdown",
   "id": "75ead206",
   "metadata": {},
   "source": [
    "最後に，Markdownセルでの<strong>実際のノートの例</strong>を紹介する．\n"
   ]
  },
  {
   "cell_type": "markdown",
   "id": "16c9386f",
   "metadata": {},
   "source": [
    "### 📊 統計の基本：平均とは？"
   ]
  },
  {
   "cell_type": "markdown",
   "id": "60cf4d5b",
   "metadata": {},
   "source": [
    "<p style=\"margin-top:1em;\"><b>統計</b>とは、たくさんのデータを集めて，<span style=\"background-color:#f0f8ff; padding:2px 4px; border-radius:4px;\">全体の傾向や特徴をつかむ</span>ための方法である．</p>\n",
    "\n",
    "<br>\n",
    "たとえば，\n",
    "  \n",
    " - テストの点数\n",
    " - 身長や体重のデータ\n",
    " - アンケートの回答結果\n",
    "\n",
    "<p style=\"margin-top:1em;\">こうしたデータを <b>見やすく，分かりやすく整理する</b> のが統計の役割である．</p>\n",
    "<br>"
   ]
  },
  {
   "cell_type": "markdown",
   "id": "17159146",
   "metadata": {},
   "source": [
    "<div style=\"border-left: 6px solid #3498db; padding: 1em;\">\n",
    "\n",
    "  <h4 style=\"margin-top: 0; color: #2c3e50;\">\n",
    "    🔢 平均とは？\n",
    "  </h4>\n",
    "</div>"
   ]
  },
  {
   "cell_type": "markdown",
   "id": "c1bfa00b",
   "metadata": {},
   "source": [
    "  <p style=\"text-indent: 2em;\">\n",
    "    統計では、<span style=\"color: #2c3e50; font-weight: bold;\">データの中心を表す<span style=\"border-bottom: solid red;\">代表的な値</span></span>として，\n",
    "    <b>平均（mean）</b>がよく使われる.\n",
    "  </p>\n",
    "\n",
    "  <p style=\"margin: 0.8em 0;text-indent: 2em;line-height: 2;\">\n",
    "    平均（算術平均）とは、\n",
    "    <span style=\"background-color: #fffacd; padding: 2px 4px; border-radius: 4px;\">\n",
    "      複数の数値の合計を、その個数で割ったもの\n",
    "    </span>である．\n",
    "  </p>\n",
    "\n",
    "  <p style=\"margin: 0.8em 0;text-indent: 2em;line-height: 1;\">\n",
    "    この方法は、\n",
    "    <span style=\"color: #4CAF50; font-weight: bold;\">\n",
    "      全体の量を等しく分けたときの１つの分の量\n",
    "    </span>\n",
    "    を求める考え方に基づいている.\n",
    "  </p>\n",
    "  "
   ]
  },
  {
   "cell_type": "markdown",
   "id": "ac845727",
   "metadata": {},
   "source": [
    "<figure style=\"float: left; text-align: left; margin: 10px 0;margin: 1em;\">\n",
    "    <img src=\"png/Mean.png\" width=\"500\" style=\" border-radius: 5px;\">\n",
    "    <figcaption style=\"font-size: 16px; color: gray; margin-top: 5px;margin: 1em;\">\n",
    "        🖼️ 平均のイメージを棒グラフで可視化した図  \n",
    "        <br>\n",
    "        <span style=\"font-size: 14px;\">出典：<a href=\"https://kyoiku.sho.jp/141557/\" target=\"_blank\" style=\"color: gray; text-decoration: none;\">https://kyoiku.sho.jp/141557/</a>より加筆</span>\n",
    "    </figcaption>\n",
    "</figure>"
   ]
  },
  {
   "cell_type": "markdown",
   "id": "f10e235f",
   "metadata": {},
   "source": [
    "<div style=\"clear: both;\"></div>\n",
    "<div style=\" padding: 2.5em;border: 1px solid black;width: 700px;margin: 0.5em;page-break-inside: avoid;max-width: 100%\">\n",
    "<h4 style=\"margin-top: 0;;font-size: 20px;\">\n",
    "数式での一般化\n",
    "</h4>\n",
    "<br>\n",
    "<p style=\"margin:0.8em 0;text-indent: 0em;line-height: 2;\">\n",
    "    個数が $n$ のデータ列 $x_1, x_2, \\ldots, x_n$ に対し，\n",
    "    その総和は以下のように表される．\n",
    "</p>\n",
    "<p style=\"margin:0.8em 0;text-indent: 1em;line-height: 2;\">\n",
    "$\n",
    "    \\begin{align}\n",
    "        x_1 + x_2 + \\ldots + x_n = \\sum_{i=1}^{n} x_i\n",
    "    \\end{align}\n",
    "$\n",
    "    </p>\n",
    "<p style=\"margin:0.8em 0;text-indent: 0em;line-height: 3;\">\n",
    "    すべての値をある定数 $\\mu$ で置き換えた場合，合計値を保持するためには次の関係が成り立つ.\n",
    "</p>\n",
    "<p style=\"margin:0.8em 0;text-indent: 1em;line-height: 2;\">\n",
    "$\n",
    "    \\begin{align}\n",
    "        n \\cdot \\mu = \\sum_{i=1}^{n} x_i\n",
    "    \\end{align}\n",
    "$\n",
    "    </p>\n",
    "<p style=\"margin:0.8em 0;text-indent: 0em;line-height: 3;\">\n",
    "    この等式を $\\mu$ について解くことで，平均値の定義式が得られる.\n",
    "</p>\n",
    "<p style=\"margin:0.8em 0;text-indent: 1em;line-height: 3;\">\n",
    "$\n",
    "    \\begin{align}\n",
    "        \\mu = \\frac{1}{n} \\sum_{i=1}^{n} x_i\n",
    "    \\end{align}\n",
    "$\n",
    "    </p>\n",
    "    <br>\n",
    "<p style=\"margin:0.8em 0;text-indent: 0em;line-height: 0;\">\n",
    "    以上が平均値の計算式の導出であり，全体の合計を個数で割るという意味を数学的に示している．\n",
    "</p>\n",
    "</div>"
   ]
  },
  {
   "cell_type": "markdown",
   "id": "13773e89",
   "metadata": {},
   "source": [
    "<div>\n",
    "<h4 style=\"margin-top: 1.5; color: #2c3e50;\">\n",
    "    🧮 計算例\n",
    "  </h4>\n",
    "\n",
    "<table style=\"width: 40%; border-collapse: collapse; text-align: left; table-layout: auto;margin-left: 0;margin:1em;page-break-inside: avoid;max-width: 100%;\">\n",
    "  <tr>\n",
    "    <th style=\"border: 1px solid #ddd; padding: 8px; background-color: #f2f2f2; text-align: center; width: 60px\">データ</th>\n",
    "    <th style=\"border: 1px solid #ddd; padding: 8px; background-color: #f2f2f2; text-align: center; width: 90px\">値</th>\n",
    "    <th style=\"border: 1px solid #ddd; padding: 8px; background-color: #f2f2f2; text-align: center; width: 150px\">平均</th>\n",
    "  </tr>\n",
    "  <tr>\n",
    "    <td style=\"border: 1px solid #ddd; padding: 8px; background-color: #ffffff; width: auto; text-align: center;\"><span style=\"font-size:14px\">A</span></td>\n",
    "    <td style=\"border: 1px solid #ddd; padding: 8px; background-color: #ffffff; width: auto; text-align: right;\">$2, 4, 6$</td>\n",
    "    <td style=\"border: 1px solid #ddd; padding: 8px; background-color: #ffffff; width: auto; text-align: right;\">$(2 + 4 + 6)  \\div 3=\\hspace{0.9pc}$ <b>4</b> </td>\n",
    "  </tr>\n",
    "  <tr>\n",
    "    <td style=\"border: 1px solid #ddd; padding: 8px; background-color: #ffffff; width: auto; text-align: center;\"><span style=\"font-size:14px\">B</span></td>\n",
    "    <td style=\"border: 1px solid #ddd; padding: 8px; background-color: #ffffff; width: auto; text-align: right;\">$7, 15, 9, 11$</td>\n",
    "    <td style=\"border: 1px solid #ddd; padding: 8px; background-color: #ffffff; width: auto; text-align: right;\">$(7 + 15 + 9 + 11) \\div 4= \\hspace{0.7pc}$<b>10</b></td>\n",
    "  </tr>\n",
    "  <tr>\n",
    "    <td style=\"border: 1px solid #ddd; padding: 8px; background-color: #ffffff; width: auto; text-align: center;\"><span style=\"font-size:14px\">C</span></td>\n",
    "    <td style=\"border: 1px solid #ddd; padding: 8px; background-color: #ffffff; width: auto; text-align: right;\">$1, 1, 100$</td>\n",
    "    <td style=\"border: 1px solid #ddd; padding: 8px; background-color: #ffffff; width: auto; text-align: right;\">$(1 + 1 + 100) \\div 3=\\hspace{0.5pc}$ <b>42</b></td>\n",
    "  </tr>\n",
    "</table>\n",
    "\n",
    "<span style=\"color: gray;text-indent: 5em;line-height: 1.5;margin:2em 0;\">\n",
    "    ※Cのように極端な数字があると，平均が「代表値」として適切でない場合もある．\n",
    "</span>\n",
    "</div>"
   ]
  },
  {
   "cell_type": "markdown",
   "id": "3400a60b",
   "metadata": {},
   "source": [
    "<div style=\" padding: 12px 15px; background-color: #f9f9f9; margin-top: 10px; border-radius: 4px;margin: 0.5em;page-break-inside: avoid;\">\n",
    "\n",
    "  <h4 style=\"margin-top: 0; margin-bottom: 4px; color: #2c3e50; font-size: 20px;margin: 1em 0;text-indent: 0em;\">\n",
    "    📌 平均のまとめ\n",
    "  </h4>\n",
    "  <p style=\"margin: 0.8em 0;text-indent: 1em;line-height: 2;color: black;\">\n",
    "      🔹平均（算術平均）は，データ全体の合計をその個数で割ることで求められる代表値である．\n",
    "  </p>\n",
    "  <p style=\"margin: 0.8em 0;text-indent: 1em;line-height: 2;color: black;\">\n",
    "      🔹平均は「等しく分ける」という日常的な考え方に基づいている．\n",
    "  </p>\n",
    "  <p style=\"margin: 0.8em 0;text-indent: 1em;line-height: 2;color: black;\">\n",
    "      🔹平均はデータの中心的な傾向を捉えるのに有効であるが，外れ値の影響を受けやすいため，\n",
    "  </p>\n",
    "  <p style=\"margin: 0.8em 0;text-indent: 2em;line-height: 2;color: black;\">\n",
    "        場合によっては中央値や最頻値など他の指標との併用が望ましい．\n",
    "  </p>\n",
    "</div>"
   ]
  },
  {
   "cell_type": "markdown",
   "id": "8e97aab6",
   "metadata": {},
   "source": [
    "<div style=\"border-left: 5px solid #f39c12; background-color: #fff8e1; padding: 12px 16px; border-radius: 6px;page-break-inside: avoid;\">\n",
    "  \n",
    "  <h4 style=\"margin-top: 0; margin-bottom: 8px; color: #2c3e50; font-size: 18px;\">🔎 まとめ</h4>\n",
    "\n",
    "  <p style=\"margin: 0; line-height: 1.8; font-size: 15px; color: #2c3e50;\">\n",
    "    Jupyter NotebookではMarkdownセルを用いることで，魅力的なノートが作成できる！<br>\n",
    "    Markdown，LaTeX，HTML のそれぞれの特徴や記述方法を学んで，<br>\n",
    "    きれいな学習ノートをつくろう！\n",
    "  </p>\n",
    "</div>"
   ]
  }
 ],
 "metadata": {
  "kernelspec": {
   "display_name": "Python 3 (ipykernel)",
   "language": "python",
   "name": "python3"
  },
  "language_info": {
   "codemirror_mode": {
    "name": "ipython",
    "version": 3
   },
   "file_extension": ".py",
   "mimetype": "text/x-python",
   "name": "python",
   "nbconvert_exporter": "python",
   "pygments_lexer": "ipython3",
   "version": "3.13.1"
  },
  "toc": {
   "base_numbering": 1,
   "nav_menu": {},
   "number_sections": true,
   "sideBar": true,
   "skip_h1_title": false,
   "title_cell": "Table of Contents",
   "title_sidebar": "Contents",
   "toc_cell": false,
   "toc_position": {},
   "toc_section_display": true,
   "toc_window_display": false
  }
 },
 "nbformat": 4,
 "nbformat_minor": 5
}
